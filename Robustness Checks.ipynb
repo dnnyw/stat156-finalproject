{
 "cells": [
  {
   "cell_type": "markdown",
   "id": "08226578-94d3-441d-a0c6-e890e1f5e6cc",
   "metadata": {},
   "source": [
    "## Using new demeaned outcomes to get rid of individual ozone fixed effects"
   ]
  },
  {
   "cell_type": "code",
   "execution_count": null,
   "id": "776ff852-b9a0-44fa-8dff-e826841d7fab",
   "metadata": {},
   "outputs": [],
   "source": [
    "# DD regression 1\n",
    "dependent_vars = [\"demeaned_ln_ozone_max\", \"demeaned_ln_8hr_ozone_max\"]\n",
    "treatment_vars = [\"treat_rvpI\", \"treat_rvpII\", \"treat_rfg\", \"treat_CARB\"]"
   ]
  },
  {
   "cell_type": "code",
   "execution_count": null,
   "id": "c8fbb393-18a1-4d26-9a89-19b6c515274d",
   "metadata": {},
   "outputs": [],
   "source": [
    "results2 = {}\n",
    "for i in range(len(dependent_vars)):\n",
    "    \n",
    "    dependent_var = dependent_vars[i]\n",
    "    print(\"working on dependent, \" + dependent_var)\n",
    "    results2[dependent_var] = {}\n",
    "    \n",
    "    for j in range(len(treatment_vars)):\n",
    "        \n",
    "        treatment_var = treatment_vars[j]\n",
    "        print(\"working on treatment, \" + treatment_var)\n",
    "        \n",
    "        model = smf.ols(f\"{dependent_var}~ 1 + {treatment_var} + C(year)*C(census_region)\", data = summer_only).fit() # ozone fixed effects are taken care of by demeaning\n",
    "        \n",
    "        values = {\"Point Estimate\":model.params[treatment_var], \n",
    "                  \"Standard Error\":model.bse[treatment_var],\n",
    "                  \"P-Value\":model.pvalues[treatment_var],\n",
    "                  \"R Squared\":model.rsquared}\n",
    "        results2[dependent_var][treatment_var] = values\n"
   ]
  },
  {
   "cell_type": "code",
   "execution_count": null,
   "id": "bfa1995e-3623-4627-a8e7-0d7a7569d6ca",
   "metadata": {},
   "outputs": [],
   "source": [
    "result_df_1 = pd.DataFrame(results2[\"demeaned_ln_ozone_max\"])\n",
    "result_df_1 = result_df_1.applymap(lambda x: round(x, 4))\n",
    "result_df_1 = result_df_1.T\n",
    "index1 = result_df_1.index\n",
    "index1.name = \"demeaned_ln_ozone_max\"\n",
    "result_df_1"
   ]
  },
  {
   "cell_type": "code",
   "execution_count": null,
   "id": "bce30a62-7c11-417c-8696-30ecc327d4fb",
   "metadata": {},
   "outputs": [],
   "source": [
    "result_df_2 = pd.DataFrame(results2[\"demeaned_ln_8hr_ozone_max\"])\n",
    "result_df_2 = result_df_2.applymap(lambda x: round(x, 4))\n",
    "result_df_2 = result_df_2.T\n",
    "index2 = result_df_2.index\n",
    "index2.name = \"demeaned_ln_8hr_ozone_max\"\n",
    "result_df_2"
   ]
  },
  {
   "cell_type": "markdown",
   "id": "0c4c0be0-f911-4fb7-a3e3-7ed3058bed4c",
   "metadata": {},
   "source": [
    "## Trying new regression with all of the treatments in the regression? "
   ]
  },
  {
   "cell_type": "code",
   "execution_count": null,
   "id": "e1616eb7-a484-41ca-8295-4156f798d3ae",
   "metadata": {},
   "outputs": [],
   "source": [
    "# DD regression 1\n",
    "dependent_vars = [\"demeaned_ln_ozone_max\", \"demeaned_ln_8hr_ozone_max\"]\n",
    "treatment_vars = [\"treat_rvpI\", \"treat_rvpII\", \"treat_rfg\", \"treat_CARB\"]"
   ]
  },
  {
   "cell_type": "code",
   "execution_count": null,
   "id": "c442c918-7f34-4b7a-84d8-eee6f38400d8",
   "metadata": {},
   "outputs": [],
   "source": [
    "results3 = {}\n",
    "for i in range(len(dependent_vars)):\n",
    "    \n",
    "    dependent_var = dependent_vars[i]\n",
    "    print(\"working on dependent, \" + dependent_var)\n",
    "    results3[dependent_var] = {}\n",
    "\n",
    "    model = smf.ols(f\"{dependent_var} ~ 1 + treat_rvpI + treat_rvpII + treat_rfg + treat_CARB + C(year)*C(census_region)\", data = summer_only).fit() # ozone fixed effects are taken care of by demeaning\n",
    "    \n",
    "    values = {}\n",
    "    for var in treatment_vars:\n",
    "        values[f\"Point Estimate {var}\"] = model.params[var]\n",
    "    for var in treatment_vars:\n",
    "        values[f\"Standard Error {var}\"] = model.bse[var]\n",
    "    for var in treatment_vars:\n",
    "        values[f\"P-Value {var}\"] = model.pvalues[var]\n",
    "    values[\"R Squared\"] = model.rsquared\n",
    "    results3[dependent_var] = values\n"
   ]
  },
  {
   "cell_type": "code",
   "execution_count": null,
   "id": "0f70b1fa-1451-46e2-bbff-0771af2259f3",
   "metadata": {},
   "outputs": [],
   "source": [
    "result_df_1 = pd.DataFrame(results3)\n",
    "result_df_1 = result_df_1.applymap(lambda x: round(x, 4))\n",
    "result_df_1 = result_df_1.T\n",
    "index1 = result_df_1.index\n",
    "index1.name = \"treatment\"\n",
    "result_df_1"
   ]
  },
  {
   "cell_type": "markdown",
   "id": "2db15a7b-9b93-4fb2-9a15-779aec908e8f",
   "metadata": {},
   "source": [
    "## Redoing DD with demeaned ozoneID Robustness Check"
   ]
  },
  {
   "cell_type": "code",
   "execution_count": null,
   "id": "830891a5-80b0-48bd-bfb8-125d49f31451",
   "metadata": {},
   "outputs": [],
   "source": [
    "def convert_to_nan(x):\n",
    "    \"\"\"Use this sepcifically on the weather dataframe so that we can use it\"\"\"\n",
    "    if isinstance(x, float):\n",
    "        return x\n",
    "    else:\n",
    "        return np.nan\n",
    "\n",
    "    \n",
    "    \n",
    "summer_only[\"TMAX\"] = summer_only[\"TMAX\"].apply(convert_to_nan) \n",
    "summer_only[\"TMIN\"] = summer_only[\"TMIN\"].apply(convert_to_nan) \n",
    "summer_only[\"SNOW\"] = summer_only[\"SNOW\"].apply(convert_to_nan) \n",
    "summer_only[\"PRCP\"] = summer_only[\"PRCP\"].apply(convert_to_nan) \n",
    "summer_only[\"lagged_TMIN\"] = summer_only[\"lagged_TMIN\"].apply(convert_to_nan) \n",
    "summer_only[\"lagged_TMAX\"] = summer_only[\"lagged_TMAX\"].apply(convert_to_nan) \n",
    "summer_only[\"lagged_SNOW\"] = summer_only[\"lagged_SNOW\"].apply(convert_to_nan) \n",
    "summer_only[\"lagged_PRCP\"] = summer_only[\"lagged_PRCP\"].apply(convert_to_nan) \n",
    "\n"
   ]
  },
  {
   "cell_type": "code",
   "execution_count": null,
   "id": "930a783c-5383-468e-96fe-33ee461433ba",
   "metadata": {},
   "outputs": [],
   "source": [
    "formula_dd1 = \"demeaned_ln_ozone_max ~ 1 + treat_rvpI + treat_rvpII + treat_rfg + treat_CARB + C(year)*C(census_region) + \\\n",
    "I(TMAX) + I(TMAX**2) + I(TMAX**3) + I(TMIN) + I(TMIN**2) + I(TMIN**3) + SNOW + PRCP + I(SNOW**2) + I(PRCP**2) + \\\n",
    "I(TMAX*TMIN) + I(PRCP*TMAX) + lagged_TMIN + lagged_TMAX + lagged_SNOW + lagged_PRCP + I(TMAX*lagged_TMAX) + I(TMAX*lagged_TMIN) + \\\n",
    "C(day_of_week)*TMAX + C(day_of_week)*TMIN + C(day_of_week)*SNOW + C(day_of_week)*PRCP + C(day_of_week)*C(census_region) + C(day_of_year)*C(census_region) + income\" \n",
    "\n",
    "formula_dd12 = \"demeaned_ln_ozone_max ~ 1 + treat_rvpI + treat_rvpII + treat_rfg + treat_CARB + C(year)*C(census_region) + \\\n",
    "I(TMAX) + I(TMAX**2) + I(TMAX**3) + I(TMIN) + I(TMIN**2) + I(TMIN**3) + SNOW + PRCP + I(SNOW**2) + I(PRCP**2) + \\\n",
    "I(TMAX*TMIN) + I(PRCP*TMAX) + lagged_TMIN + lagged_TMAX + lagged_SNOW + lagged_PRCP + I(TMAX*lagged_TMAX) + I(TMAX*lagged_TMIN)\"\n",
    "\n",
    "formula_dd13 = \"demeaned_ln_ozone_max ~ 1 + treat_rvpI + treat_rvpII + treat_rfg + treat_CARB + C(year)*C(census_region) + \\\n",
    "I(TMAX) + I(TMAX**2) + I(TMIN) + I(TMIN**2) + SNOW + PRCP + I(SNOW**2) + I(PRCP**2) + \\\n",
    "I(TMAX*TMIN) + I(PRCP*TMAX) + lagged_TMIN + lagged_TMAX + lagged_SNOW + lagged_PRCP\"\n",
    "\n",
    "#last one is the simple model\n",
    "formula_dd14 = \"demeaned_ln_ozone_max ~ 1 + treat_rvpI + treat_rvpII + treat_rfg + treat_CARB + C(year)*C(census_region)\"\n"
   ]
  },
  {
   "cell_type": "code",
   "execution_count": null,
   "id": "15f57730-ea85-4ebf-9bfd-c77ef85b4903",
   "metadata": {
    "tags": []
   },
   "outputs": [],
   "source": [
    "dd2_model1 = smf.ols(formula_dd1, data = summer_only).fit()"
   ]
  },
  {
   "cell_type": "code",
   "execution_count": null,
   "id": "a72bbfd6-80a3-4be8-87b7-6eb9c2b39058",
   "metadata": {},
   "outputs": [],
   "source": [
    "values21 = {}\n",
    "for var in treatment_vars:\n",
    "    values21[f\"Point Estimate {var}\"] = dd2_model1.params[var]\n",
    "for var in treatment_vars:\n",
    "    values21[f\"Standard Error {var}\"] = dd2_model1.bse[var]\n",
    "for var in treatment_vars:\n",
    "    values21[f\"P-Value {var}\"] = dd2_model1.pvalues[var]"
   ]
  },
  {
   "cell_type": "code",
   "execution_count": null,
   "id": "97fa5557-6bed-4f41-826c-892fb08492f4",
   "metadata": {},
   "outputs": [],
   "source": [
    "dd2_model2 = smf.ols(formula_dd12, data = summer_only).fit()"
   ]
  },
  {
   "cell_type": "code",
   "execution_count": null,
   "id": "03732531-94de-4300-b11c-061d8d24a0e7",
   "metadata": {},
   "outputs": [],
   "source": [
    "values22 = {}\n",
    "for var in treatment_vars:\n",
    "    values22[f\"Point Estimate {var}\"] = dd2_model2.params[var]\n",
    "for var in treatment_vars:\n",
    "    values22[f\"Standard Error {var}\"] = dd2_model2.bse[var]\n",
    "for var in treatment_vars:\n",
    "    values22[f\"P-Value {var}\"] = dd2_model2.pvalues[var]"
   ]
  },
  {
   "cell_type": "code",
   "execution_count": null,
   "id": "abeededd-2219-4d76-b6b7-1edcc5b8cc21",
   "metadata": {},
   "outputs": [],
   "source": [
    "dd2_model3 = smf.ols(formula_dd13, data = summer_only).fit()"
   ]
  },
  {
   "cell_type": "code",
   "execution_count": null,
   "id": "ecacf6c1-2e27-4526-88af-f3045f43b6eb",
   "metadata": {},
   "outputs": [],
   "source": [
    "values23 = {}\n",
    "for var in treatment_vars:\n",
    "    values23[f\"Point Estimate {var}\"] = dd2_model3.params[var]\n",
    "for var in treatment_vars:\n",
    "    values23[f\"Standard Error {var}\"] = dd2_model3.bse[var]\n",
    "for var in treatment_vars:\n",
    "    values23[f\"P-Value {var}\"] = dd2_model3.pvalues[var]"
   ]
  },
  {
   "cell_type": "code",
   "execution_count": null,
   "id": "327eb18a-87f8-4327-bcb0-14cf847fe6c4",
   "metadata": {},
   "outputs": [],
   "source": [
    "dd2_model4 = smf.ols(formula_dd14, data = summer_only).fit()"
   ]
  },
  {
   "cell_type": "code",
   "execution_count": null,
   "id": "f788762e-bbf0-4171-9f45-322c315fb14a",
   "metadata": {},
   "outputs": [],
   "source": [
    "values24 = {}\n",
    "for var in treatment_vars:\n",
    "    values24[f\"Point Estimate {var}\"] = dd2_model4.params[var]\n",
    "for var in treatment_vars:\n",
    "    values24[f\"Standard Error {var}\"] = dd2_model4.bse[var]\n",
    "for var in treatment_vars:\n",
    "    values24[f\"P-Value {var}\"] = dd2_model4.pvalues[var]"
   ]
  },
  {
   "cell_type": "code",
   "execution_count": null,
   "id": "246b1e05-362b-4c69-ae7b-4ec4f2b0c5cd",
   "metadata": {},
   "outputs": [],
   "source": [
    "results = {\"Model 1 (Most Complex)\":values21, \"Model 2 (No Time Variables)\":values22, \"Model 3 (No Weather Cubics)\":values23, \"Model 4 (No Weather)\":values24}"
   ]
  },
  {
   "cell_type": "code",
   "execution_count": null,
   "id": "6ea26a96-4231-4075-aaa3-02e7920ecd6b",
   "metadata": {},
   "outputs": [],
   "source": [
    "pd.DataFrame(results).T"
   ]
  },
  {
   "cell_type": "code",
   "execution_count": null,
   "id": "318830af-3b00-43ea-a262-cd81fab2c371",
   "metadata": {},
   "outputs": [],
   "source": []
  },
  {
   "cell_type": "markdown",
   "id": "2399139d-bd0e-481c-83cd-15e6090fdce1",
   "metadata": {},
   "source": [
    "## now doing it for 8 hr max and seeing if same"
   ]
  },
  {
   "cell_type": "code",
   "execution_count": null,
   "id": "69211e4d-60fd-4f55-a2ea-009f1bac0123",
   "metadata": {},
   "outputs": [],
   "source": [
    "formula_dd2 = \"demeaned_ln_8hr_ozone_max ~ 1 + treat_rvpI + treat_rvpII + treat_rfg + treat_CARB + C(year)*C(census_region) + \\\n",
    "I(TMAX) + I(TMAX**2) + I(TMAX**3) + I(TMIN) + I(TMIN**2) + I(TMIN**3) + SNOW + PRCP + I(SNOW**2) + I(PRCP**2) + \\\n",
    "I(TMAX*TMIN) + I(PRCP*TMAX) + lagged_TMIN + lagged_TMAX + lagged_SNOW + lagged_PRCP + I(TMAX*lagged_TMAX) + I(TMAX*lagged_TMIN) + \\\n",
    "C(day_of_week)*TMAX + C(day_of_week)*TMIN + C(day_of_week)*SNOW + C(day_of_week)*PRCP + C(day_of_week)*C(census_region) + C(day_of_year)*C(census_region) + income\" \n",
    "\n",
    "formula_dd22 = \"demeaned_ln_8hr_ozone_max ~ 1 + treat_rvpI + treat_rvpII + treat_rfg + treat_CARB + C(year)*C(census_region) + \\\n",
    "I(TMAX) + I(TMAX**2) + I(TMAX**3) + I(TMIN) + I(TMIN**2) + I(TMIN**3) + SNOW + PRCP + I(SNOW**2) + I(PRCP**2) + \\\n",
    "I(TMAX*TMIN) + I(PRCP*TMAX) + lagged_TMIN + lagged_TMAX + lagged_SNOW + lagged_PRCP + I(TMAX*lagged_TMAX) + I(TMAX*lagged_TMIN)\"\n",
    "\n",
    "formula_dd23 = \"demeaned_ln_8hr_ozone_max ~ 1 + treat_rvpI + treat_rvpII + treat_rfg + treat_CARB + C(year)*C(census_region) + \\\n",
    "I(TMAX) + I(TMAX**2) + I(TMIN) + I(TMIN**2) + SNOW + PRCP + I(SNOW**2) + I(PRCP**2) + \\\n",
    "I(TMAX*TMIN) + I(PRCP*TMAX) + lagged_TMIN + lagged_TMAX + lagged_SNOW + lagged_PRCP\"\n",
    "\n",
    "#last one is the simple model\n",
    "formula_dd24 = \"demeaned_ln_8hr_ozone_max ~ 1 + treat_rvpI + treat_rvpII + treat_rfg + treat_CARB + C(year)*C(census_region)\"\n"
   ]
  },
  {
   "cell_type": "code",
   "execution_count": null,
   "id": "a07f22a6-9565-43c8-9037-8dc38e3f608c",
   "metadata": {
    "tags": []
   },
   "outputs": [],
   "source": [
    "dd3_model1 = smf.ols(formula_dd2, data = summer_only).fit()"
   ]
  },
  {
   "cell_type": "code",
   "execution_count": null,
   "id": "c0ade042-8bd8-4685-bb7f-f910d1c83d7f",
   "metadata": {},
   "outputs": [],
   "source": [
    "values31 = {}\n",
    "for var in treatment_vars:\n",
    "    values31[f\"Point Estimate {var}\"] = dd3_model1.params[var]\n",
    "for var in treatment_vars:\n",
    "    values31[f\"Standard Error {var}\"] = dd3_model1.bse[var]\n",
    "for var in treatment_vars:\n",
    "    values31[f\"P-Value {var}\"] = dd3_model1.pvalues[var]"
   ]
  },
  {
   "cell_type": "code",
   "execution_count": null,
   "id": "186e4554-d57d-45d1-b1b0-bd99949c8492",
   "metadata": {},
   "outputs": [],
   "source": [
    "dd3_model2 = smf.ols(formula_dd22, data = summer_only).fit()"
   ]
  },
  {
   "cell_type": "code",
   "execution_count": null,
   "id": "bdffd42b-19f6-4e07-b463-969bbcbbc588",
   "metadata": {},
   "outputs": [],
   "source": [
    "values32 = {}\n",
    "for var in treatment_vars:\n",
    "    values32[f\"Point Estimate {var}\"] = dd3_model2.params[var]\n",
    "for var in treatment_vars:\n",
    "    values32[f\"Standard Error {var}\"] = dd3_model2.bse[var]\n",
    "for var in treatment_vars:\n",
    "    values32[f\"P-Value {var}\"] = dd3_model2.pvalues[var]"
   ]
  },
  {
   "cell_type": "code",
   "execution_count": null,
   "id": "9c745df4-a4fd-4b9c-8f9d-daf6395f4b94",
   "metadata": {},
   "outputs": [],
   "source": [
    "dd3_model3 = smf.ols(formula_dd23, data = summer_only).fit()"
   ]
  },
  {
   "cell_type": "code",
   "execution_count": null,
   "id": "78a74947-7b65-4440-a177-07484c74e28d",
   "metadata": {},
   "outputs": [],
   "source": [
    "values33 = {}\n",
    "for var in treatment_vars:\n",
    "    values33[f\"Point Estimate {var}\"] = dd3_model3.params[var]\n",
    "for var in treatment_vars:\n",
    "    values33[f\"Standard Error {var}\"] = dd3_model3.bse[var]\n",
    "for var in treatment_vars:\n",
    "    values33[f\"P-Value {var}\"] = dd3_model3.pvalues[var]"
   ]
  },
  {
   "cell_type": "code",
   "execution_count": null,
   "id": "8d53fc85-6b3b-4299-953e-8e5090b012f7",
   "metadata": {},
   "outputs": [],
   "source": [
    "dd3_model4 = smf.ols(formula_dd24, data = summer_only).fit()"
   ]
  },
  {
   "cell_type": "code",
   "execution_count": null,
   "id": "c688cae2-878e-4a63-82f7-8aec3120c7fb",
   "metadata": {},
   "outputs": [],
   "source": [
    "values34 = {}\n",
    "for var in treatment_vars:\n",
    "    values34[f\"Point Estimate {var}\"] = dd3_model4.params[var]\n",
    "for var in treatment_vars:\n",
    "    values34[f\"Standard Error {var}\"] = dd3_model4.bse[var]\n",
    "for var in treatment_vars:\n",
    "    values34[f\"P-Value {var}\"] = dd3_model4.pvalues[var]"
   ]
  },
  {
   "cell_type": "code",
   "execution_count": null,
   "id": "5c02a7f6-115d-4d81-80a6-518bea21353a",
   "metadata": {},
   "outputs": [],
   "source": [
    "results2 = {\"Model 1 (Most Complex)\":values31, \"Model 2 (No Time Variables)\":values32, \"Model 3 (No Weather Cubics)\":values33, \"Model 4 (No Weather)\":values34}"
   ]
  },
  {
   "cell_type": "code",
   "execution_count": null,
   "id": "6f1c04f5-8e01-49e9-abb1-6bd3b0cacc9f",
   "metadata": {},
   "outputs": [],
   "source": [
    "pd.DataFrame(results2).T"
   ]
  }
 ],
 "metadata": {
  "kernelspec": {
   "display_name": "Python 3",
   "language": "python",
   "name": "python3"
  },
  "language_info": {
   "codemirror_mode": {
    "name": "ipython",
    "version": 3
   },
   "file_extension": ".py",
   "mimetype": "text/x-python",
   "name": "python",
   "nbconvert_exporter": "python",
   "pygments_lexer": "ipython3",
   "version": "3.8.8"
  }
 },
 "nbformat": 4,
 "nbformat_minor": 5
}
