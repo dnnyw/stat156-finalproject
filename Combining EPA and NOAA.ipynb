{
 "cells": [
  {
   "cell_type": "code",
   "execution_count": null,
   "id": "7997d4dc-f9b6-4975-88a8-8084e9f6134d",
   "metadata": {
    "tags": []
   },
   "outputs": [],
   "source": [
    "import os\n",
    "import pandas as pd\n",
    "import numpy as np\n",
    "import regex as re\n",
    "from datetime import datetime\n",
    "\n",
    "import ast\n",
    "\n",
    "# Source code downloaded\n",
    "from vincenty import vincenty_inverse\n",
    "from tqdm import tqdm\n",
    "pd.set_option('display.max_columns', 100)"
   ]
  },
  {
   "cell_type": "code",
   "execution_count": null,
   "id": "b5b4b98f-ea8f-4514-b42f-f5b9850f228e",
   "metadata": {},
   "outputs": [],
   "source": [
    "current_dir = os.getcwd()\n",
    "NOAA_dir = current_dir + r'\\NOAA Weather Data'\n",
    "EPA_dir = current_dir + r'\\EPA Ozone Data'\n",
    "\n",
    "filtered_EPA_dir = current_dir + r'/EPA Ozone Data/Filtered EPA Data/second_cleaning/'\n",
    "compressed_NOAA_dir = current_dir + r'/NOAA Weather Data' "
   ]
  },
  {
   "cell_type": "code",
   "execution_count": null,
   "id": "3af78c79-038d-4c07-90e9-3246b3ae6cf4",
   "metadata": {},
   "outputs": [],
   "source": [
    "filtered_EPA_files = [file for file in os.listdir(filtered_EPA_dir) if file.endswith(\".csv\")]\n",
    "filtered_EPA_files"
   ]
  },
  {
   "cell_type": "code",
   "execution_count": null,
   "id": "c43ab65d-c8e8-4721-922f-c3f96972b261",
   "metadata": {},
   "outputs": [],
   "source": [
    "noaa_files = [file for file in os.listdir(compressed_NOAA_dir) if file.endswith(\".csv.gz\")]\n",
    "noaa_files"
   ]
  },
  {
   "cell_type": "code",
   "execution_count": null,
   "id": "f3855df9-b2cc-461d-b327-d848830c2f17",
   "metadata": {},
   "outputs": [],
   "source": [
    "us_station_codes = pd.read_csv(NOAA_dir + '/us_station_codes.csv')"
   ]
  },
  {
   "cell_type": "markdown",
   "id": "e2658e95-246c-41ba-acc7-58a74ca2de4f",
   "metadata": {},
   "source": [
    "# Finding the 10 closest weather stations based on Vincenty distance and then figure out the weathers based on that \n",
    "\n",
    "- Don't extract the NOAA data bc it is too large"
   ]
  },
  {
   "cell_type": "code",
   "execution_count": null,
   "id": "df7a069e-f1ac-4ac2-bb0c-e8791af8369c",
   "metadata": {},
   "outputs": [],
   "source": [
    "def get_ozoneID_coords(ozone_df):\n",
    "    \"\"\"\n",
    "    Groups entire dataframe by ozoneID and then applies lambda function that extracts the first entry of Latitude, Longitude\n",
    "    \n",
    "    returns: a series indexed by ozoneID that gives back information that can then be indexed into using key's 'Latitude' and\n",
    "    'Longitude'\n",
    "    \n",
    "    NOTE: WE CAN GET ALL UNIQUE OZONE ID FROM THIS OUTPUT'S INDEX using output.index\n",
    "    \"\"\"\n",
    "    #first check that the required columns are there, otherwise print an error\n",
    "    if all(column in ozone_df.columns for column in [\"ozoneID\", \"Latitude\", \"Longitude\"]):\n",
    "        return ozone_df.groupby(\"ozoneID\").apply(lambda gr: gr[[\"Latitude\", \"Longitude\"]].iloc[0,:])\n",
    "    else:\n",
    "        raise Exception(\"one of the columns needed in ozoneID, Latitude, Longitude was missing\")"
   ]
  },
  {
   "cell_type": "code",
   "execution_count": null,
   "id": "fa78afc9-8469-4cdf-94a0-6eb8935ef375",
   "metadata": {},
   "outputs": [],
   "source": [
    "from vincenty import vincenty_inverse\n",
    "\n",
    "def get_closest_stations(lat_long_pair):\n",
    "#     print(\"working on \" + str(lat_long_pair))\n",
    "    temp = us_station_codes.copy()\n",
    "    temp[\"ozone_lat\"] = lat_long_pair[\"Latitude\"]\n",
    "    temp[\"ozone_long\"] = lat_long_pair[\"Longitude\"]\n",
    "    temp[\"vincenty_dist\"] = [vincenty_inverse((a, b), (c, d)) for a, b, c, d in zip(temp[\"lat\"], \n",
    "                                                                            temp[\"long\"], \n",
    "                                                                            temp[\"ozone_lat\"], \n",
    "                                                                            temp[\"ozone_long\"])]\n",
    "    sorted_distances = temp.sort_values(\"vincenty_dist\")[[\"StationId\",\"vincenty_dist\"]].iloc[0:10, :]\n",
    "    return sorted_distances.values.tolist()"
   ]
  },
  {
   "cell_type": "code",
   "execution_count": null,
   "id": "e74e9a03-6493-4062-8dd8-352dca36b6a3",
   "metadata": {},
   "outputs": [],
   "source": [
    "for file in filtered_EPA_files:\n",
    "    if \"closest_stations_\" + file in os.listdir(NOAA_dir + \"/closest_stations\"):\n",
    "        print(\"closest_stations for \" + file + \" already found, skipping\")\n",
    "        continue\n",
    "    else:\n",
    "        print(\"working on \" + file)\n",
    "        temp = pd.read_csv(filtered_EPA_dir + file, low_memory = False, index_col = 0)\n",
    "        temp_lat_long = get_ozoneID_coords(temp)\n",
    "\n",
    "        # create dictionary \n",
    "        closest_stations = {}\n",
    "        indices = temp_lat_long.index\n",
    "        for ozone_index in tqdm(range(len(indices))):\n",
    "            ozone_station = indices[ozone_index]\n",
    "            ozone_station_coord = temp_lat_long.loc[ozone_station]\n",
    "            closest_stations[ozone_station] = get_closest_stations(ozone_station_coord)\n",
    "        \n",
    "        output = pd.DataFrame(closest_stations)\n",
    "        output.to_csv(NOAA_dir + \"/closest_stations/closest_stations_\" + file)\n",
    "\n",
    "    \n",
    "    \n",
    "\n",
    "    "
   ]
  },
  {
   "cell_type": "markdown",
   "id": "1c511fa3-85e4-494c-a324-b3ab98ae7eca",
   "metadata": {},
   "source": [
    "# Getting the closest weather station data"
   ]
  },
  {
   "cell_type": "code",
   "execution_count": null,
   "id": "6d6ebd56-b704-4a73-8f0a-d9677bf8c9d5",
   "metadata": {},
   "outputs": [],
   "source": [
    "closest_noaa = [file for file in os.listdir(NOAA_dir + \"/closest_stations\") if file.endswith(\".csv\")]\n",
    "closest_noaa"
   ]
  },
  {
   "cell_type": "code",
   "execution_count": null,
   "id": "9329f21a-3042-4c3b-b145-ecb0ee6a556c",
   "metadata": {},
   "outputs": [],
   "source": [
    "column_name = dict(zip(range(10), [\"station_\" + str(i) for i in range(10)]))"
   ]
  },
  {
   "cell_type": "code",
   "execution_count": null,
   "id": "26db7ebe-dc05-460b-b9ce-8da699aa2b59",
   "metadata": {},
   "outputs": [],
   "source": [
    "closest_1989 = pd.read_csv(NOAA_dir + \"/closest_stations/\" + closest_noaa[1], index_col = 0)\n",
    "closest_1989 = closest_1989.T.applymap(ast.literal_eval)\n",
    "closest_1989 = closest_1989.rename(columns = column_name)\n",
    "closest_1989 = closest_1989.applymap(lambda x: x[0])\n",
    "closest_1989"
   ]
  },
  {
   "cell_type": "markdown",
   "id": "a8b879af-ee1e-4174-8030-44195de89f66",
   "metadata": {},
   "source": [
    "# Cleaning NOAA Data"
   ]
  },
  {
   "cell_type": "code",
   "execution_count": null,
   "id": "9c180153-b771-4a64-a81d-72d2323559b5",
   "metadata": {},
   "outputs": [],
   "source": [
    "header_list = [\"Code\", \"Date\", \"Measurement\", \"Value\", \"V1\", \"V2\", \"V3\", \"V4\"]\n",
    "noaa_1989 = pd.read_csv(NOAA_dir + \"/\" + noaa_files[1], names = header_list)\n",
    "noaa_1989[\"Datetime\"] = pd.to_datetime(noaa_1989[\"Date\"], format='%Y%m%d', errors='ignore')"
   ]
  },
  {
   "cell_type": "code",
   "execution_count": null,
   "id": "68446017-7b21-4b79-8614-fa61e9fab011",
   "metadata": {},
   "outputs": [],
   "source": [
    "noaa_1989.head()"
   ]
  },
  {
   "cell_type": "code",
   "execution_count": null,
   "id": "9037ab27-4d44-4ba6-81ab-caad255feb74",
   "metadata": {},
   "outputs": [],
   "source": [
    "us_noaa_1989 = noaa_1989[noaa_1989[\"Code\"].str.startswith(\"US\")]"
   ]
  },
  {
   "cell_type": "code",
   "execution_count": null,
   "id": "d9cad775-e127-437d-ac42-c45056c756d8",
   "metadata": {},
   "outputs": [],
   "source": [
    "us_noaa_1989_prcp = us_noaa_1989[us_noaa_1989[\"Measurement\"] == \"PRCP\"].rename(columns = {\"Value\": \"RAIN\"}).drop(columns = [\"Measurement\", \"V1\", \"V2\", \"V3\", \"V4\", \"Date\"])\n"
   ]
  },
  {
   "cell_type": "code",
   "execution_count": null,
   "id": "60308027-3591-4319-81fc-a5098c3e1085",
   "metadata": {},
   "outputs": [],
   "source": [
    "us_noaa_1989_snow = us_noaa_1989[us_noaa_1989[\"Measurement\"] == \"SNOW\"].rename(columns = {\"Value\": \"SNOW\"}).drop(columns = [\"Measurement\", \"V1\", \"V2\", \"V3\", \"V4\", \"Date\"])\n"
   ]
  },
  {
   "cell_type": "code",
   "execution_count": null,
   "id": "fbeb1def-2014-4096-82ca-bc04b72ea2e1",
   "metadata": {},
   "outputs": [],
   "source": [
    "us_noaa_1989_tmax = us_noaa_1989[us_noaa_1989[\"Measurement\"] == \"TMAX\"].rename(columns = {\"Value\": \"TMAX\"}).drop(columns = [\"Measurement\", \"V1\", \"V2\", \"V3\", \"V4\", \"Date\"])\n"
   ]
  },
  {
   "cell_type": "code",
   "execution_count": null,
   "id": "f9cf64b3-8363-4375-afe5-5392f868b957",
   "metadata": {},
   "outputs": [],
   "source": [
    "us_noaa_1989_tmin = us_noaa_1989[us_noaa_1989[\"Measurement\"] == \"TMIN\"].rename(columns = {\"Value\": \"TMIN\"}).drop(columns = [\"Measurement\", \"V1\", \"V2\", \"V3\", \"V4\", \"Date\"])\n"
   ]
  },
  {
   "cell_type": "markdown",
   "id": "4afeed01-1281-414f-a64e-712cb4b27e43",
   "metadata": {},
   "source": [
    "# Testing Joining with 1989"
   ]
  },
  {
   "cell_type": "code",
   "execution_count": null,
   "id": "1620ca42-5bc2-4ccf-a09c-d7e931ded613",
   "metadata": {},
   "outputs": [],
   "source": [
    "epa_1989 = pd.read_csv(filtered_EPA_dir + filtered_EPA_files[1], low_memory = False, index_col = 0).drop(columns = [\"Unnamed: 0.1\"])\n",
    "epa_1989[\"Datetime\"] = pd.to_datetime(epa_1989[\"Date Local\"], format='%Y-%m-%d', errors='ignore')\n",
    "epa_1989"
   ]
  },
  {
   "cell_type": "code",
   "execution_count": null,
   "id": "1022843f-ac0b-4171-9fcc-8ba0267ee8fa",
   "metadata": {},
   "outputs": [],
   "source": [
    "epa_1989 = epa_1989.merge(closest_1989, left_on = \"ozoneID\", right_index = True)"
   ]
  },
  {
   "cell_type": "code",
   "execution_count": null,
   "id": "a5fe3b3c-46ea-45b4-b49c-b6d21c2583fd",
   "metadata": {},
   "outputs": [],
   "source": [
    "epa_1989"
   ]
  },
  {
   "cell_type": "code",
   "execution_count": null,
   "id": "e2793e83-211a-41ce-b60a-c95de7103f52",
   "metadata": {},
   "outputs": [],
   "source": [
    "need_weather = epa_1989.iloc[:,14:25]"
   ]
  },
  {
   "cell_type": "code",
   "execution_count": null,
   "id": "2a8ba2c2-1599-44c4-9d91-35b180cbbc19",
   "metadata": {},
   "outputs": [],
   "source": [
    "need_weather"
   ]
  },
  {
   "cell_type": "code",
   "execution_count": null,
   "id": "2076d3dc-fc2f-447f-9444-529217ef8fa2",
   "metadata": {},
   "outputs": [],
   "source": [
    "noaa_1989"
   ]
  },
  {
   "cell_type": "code",
   "execution_count": null,
   "id": "46f9cd59-f040-4abd-8a7e-606f2fb05a09",
   "metadata": {},
   "outputs": [],
   "source": [
    "ugly = need_weather.merge(us_noaa_1989_tmax, left_on = [\"Datetime\", \"station_0\"], right_on = [\"Datetime\", \"Code\"], how = \"left\").drop(columns = [\"Code\", \"Datetime\",]).rename(columns = {\"TMAX\":\"TMAX_0\"})\\\n",
    ".merge(us_noaa_1989_tmax, left_on = [\"Datetime\", \"station_1\"], right_on = [\"Datetime\", \"Code\"], how = \"left\").drop(columns = [\"Code\", \"Datetime\",]).rename(columns = {\"TMAX\":\"TMAX_1\"})\\\n",
    ".merge(us_noaa_1989_tmax, left_on = [\"Datetime\", \"station_2\"], right_on = [\"Datetime\", \"Code\"], how = \"left\").drop(columns = [\"Code\", \"Datetime\",]).rename(columns = {\"TMAX\":\"TMAX_2\"})\\\n",
    ".merge(us_noaa_1989_tmax, left_on = [\"Datetime\", \"station_3\"], right_on = [\"Datetime\", \"Code\"], how = \"left\").drop(columns = [\"Code\", \"Datetime\",]).rename(columns = {\"TMAX\":\"TMAX_3\"})\\\n",
    ".merge(us_noaa_1989_tmax, left_on = [\"Datetime\", \"station_4\"], right_on = [\"Datetime\", \"Code\"], how = \"left\").drop(columns = [\"Code\", \"Datetime\",]).rename(columns = {\"TMAX\":\"TMAX_4\"})\\\n",
    ".merge(us_noaa_1989_tmax, left_on = [\"Datetime\", \"station_5\"], right_on = [\"Datetime\", \"Code\"], how = \"left\").drop(columns = [\"Code\", \"Datetime\",]).rename(columns = {\"TMAX\":\"TMAX_5\"})\\\n",
    ".merge(us_noaa_1989_tmax, left_on = [\"Datetime\", \"station_6\"], right_on = [\"Datetime\", \"Code\"], how = \"left\").drop(columns = [\"Code\", \"Datetime\",]).rename(columns = {\"TMAX\":\"TMAX_6\"})\\\n",
    ".merge(us_noaa_1989_tmax, left_on = [\"Datetime\", \"station_7\"], right_on = [\"Datetime\", \"Code\"], how = \"left\").drop(columns = [\"Code\", \"Datetime\",]).rename(columns = {\"TMAX\":\"TMAX_7\"})\\\n",
    ".merge(us_noaa_1989_tmax, left_on = [\"Datetime\", \"station_8\"], right_on = [\"Datetime\", \"Code\"], how = \"left\").drop(columns = [\"Code\", \"Datetime\",]).rename(columns = {\"TMAX\":\"TMAX_8\"})\\\n",
    ".merge(us_noaa_1989_tmax, left_on = [\"Datetime\", \"station_9\"], right_on = [\"Datetime\", \"Code\"], how = \"left\").drop(columns = [\"Code\", \"Datetime\",]).rename(columns = {\"TMAX\":\"TMAX_9\"})\n",
    "\n"
   ]
  },
  {
   "cell_type": "markdown",
   "id": "bd857671-ae3a-4081-b31a-9a0c05291e5e",
   "metadata": {},
   "source": [
    "we only have 139787/208268 of the weather data wtf?"
   ]
  },
  {
   "cell_type": "code",
   "execution_count": null,
   "id": "a901cd1f-dc03-422d-bf96-28dd1f3e8a13",
   "metadata": {},
   "outputs": [],
   "source": [
    "ugly"
   ]
  },
  {
   "cell_type": "code",
   "execution_count": null,
   "id": "64e5c296-346a-4728-92b6-844df17daa29",
   "metadata": {},
   "outputs": [],
   "source": [
    "sum(ugly.isna().sum(axis = 1) == 10)"
   ]
  },
  {
   "cell_type": "code",
   "execution_count": null,
   "id": "e879bf54-47db-48c5-a275-0e11f24d570f",
   "metadata": {},
   "outputs": [],
   "source": [
    "epa_1989[\"TMAX\"] = ugly.iloc[:, 11:].values.tolist()"
   ]
  },
  {
   "cell_type": "code",
   "execution_count": null,
   "id": "ef0a8db3-99b7-403c-9f19-883211a60354",
   "metadata": {},
   "outputs": [],
   "source": [
    "epa_1989"
   ]
  },
  {
   "cell_type": "code",
   "execution_count": null,
   "id": "d4c58433-b6c5-4dac-8b06-13ecfa0e32cc",
   "metadata": {},
   "outputs": [],
   "source": [
    "def merge_epa_NOAA(noaa_df_dir, epa_df_dir, closest_noaa_dir):\n",
    "    # clean closest_noaa \n",
    "    column_name = dict(zip(range(10), [\"station_\" + str(i) for i in range(10)]))\n",
    "    closest_noaa = pd.read_csv(NOAA_dir + \"/closest_stations/\" + closest_noaa_dir, index_col = 0)\n",
    "    closest_noaa = closest_noaa.T.applymap(ast.literal_eval).rename(columns = column_name).applymap(lambda x: x[0])\n",
    "    \n",
    "    # clean weather data\n",
    "    header_list = [\"Code\", \"Date\", \"Measurement\", \"Value\", \"V1\", \"V2\", \"V3\", \"V4\"]\n",
    "    noaa_df = pd.read_csv(NOAA_dir + \"/\" + noaa_df_dir, names = header_list)\n",
    "    noaa_1989[\"Datetime\"] = pd.to_datetime(noaa_1989[\"Date\"], format='%Y%m%d', errors='ignore')\n",
    "    \n"
   ]
  }
 ],
 "metadata": {
  "kernelspec": {
   "display_name": "Python 3",
   "language": "python",
   "name": "python3"
  },
  "language_info": {
   "codemirror_mode": {
    "name": "ipython",
    "version": 3
   },
   "file_extension": ".py",
   "mimetype": "text/x-python",
   "name": "python",
   "nbconvert_exporter": "python",
   "pygments_lexer": "ipython3",
   "version": "3.8.8"
  }
 },
 "nbformat": 4,
 "nbformat_minor": 5
}
